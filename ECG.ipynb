{
  "nbformat": 4,
  "nbformat_minor": 0,
  "metadata": {
    "colab": {
      "provenance": []
    },
    "kernelspec": {
      "name": "python3",
      "display_name": "Python 3"
    },
    "language_info": {
      "name": "python"
    },
    "accelerator": "GPU",
    "gpuClass": "standard"
  },
  "cells": [
    {
      "cell_type": "code",
      "execution_count": null,
      "metadata": {
        "id": "o-7ewIzgyncR"
      },
      "outputs": [],
      "source": [
        "import keras\n",
        "from keras.models import Sequential\n",
        "from keras.layers import Dense, Dropout\n",
        "from keras.optimizers import RMSprop\n",
        "from sklearn import preprocessing\n",
        "from sklearn.preprocessing import scale\n",
        "import pandas as pd"
      ]
    },
    {
      "cell_type": "code",
      "source": [
        "opt = keras.optimizers.Adam(learning_rate=0.001, beta_1=0.9, beta_2=0.999, amsgrad=False)"
      ],
      "metadata": {
        "id": "nzHTTM1b0QBW"
      },
      "execution_count": null,
      "outputs": []
    },
    {
      "cell_type": "code",
      "source": [
        "import os\n",
        "os.environ['KAGGLE_USERNAME']=\"moustafahesham\"\n",
        "os.environ['KAGGLE_KEY']=\"\"\n",
        "!kaggle datasets download -d shayanfazeli/heartbeat #copy api"
      ],
      "metadata": {
        "colab": {
          "base_uri": "https://localhost:8080/"
        },
        "id": "oog-2x8P22yY",
        "outputId": "27cc009d-1254-4899-a552-2149a4fed116"
      },
      "execution_count": null,
      "outputs": [
        {
          "output_type": "stream",
          "name": "stdout",
          "text": [
            "Downloading heartbeat.zip to /content\n",
            " 94% 93.0M/98.8M [00:00<00:00, 186MB/s]\n",
            "100% 98.8M/98.8M [00:00<00:00, 171MB/s]\n"
          ]
        }
      ]
    },
    {
      "cell_type": "code",
      "source": [
        "!ls"
      ],
      "metadata": {
        "colab": {
          "base_uri": "https://localhost:8080/"
        },
        "id": "RZjfeGXS3Cuy",
        "outputId": "6e91c628-793d-43e1-e66c-1506038d5983"
      },
      "execution_count": null,
      "outputs": [
        {
          "output_type": "stream",
          "name": "stdout",
          "text": [
            "heartbeat.zip  sample_data\n"
          ]
        }
      ]
    },
    {
      "cell_type": "code",
      "source": [
        "!unzip heartbeat.zip"
      ],
      "metadata": {
        "colab": {
          "base_uri": "https://localhost:8080/"
        },
        "id": "LACEoop13GVt",
        "outputId": "bade1b02-02af-4f9f-b195-05b66d04d82d"
      },
      "execution_count": null,
      "outputs": [
        {
          "output_type": "stream",
          "name": "stdout",
          "text": [
            "Archive:  heartbeat.zip\n",
            "  inflating: mitbih_test.csv         \n",
            "  inflating: mitbih_train.csv        \n",
            "  inflating: ptbdb_abnormal.csv      \n",
            "  inflating: ptbdb_normal.csv        \n"
          ]
        }
      ]
    },
    {
      "cell_type": "code",
      "source": [],
      "metadata": {
        "id": "CKuUKvjO3e8z"
      },
      "execution_count": null,
      "outputs": []
    },
    {
      "cell_type": "code",
      "source": [
        "df = pd.read_csv('mitbih_train.csv')"
      ],
      "metadata": {
        "id": "LrEiqh911IGt"
      },
      "execution_count": null,
      "outputs": []
    },
    {
      "cell_type": "code",
      "source": [
        "df.info()"
      ],
      "metadata": {
        "id": "6R2f0SVH0Td8",
        "colab": {
          "base_uri": "https://localhost:8080/"
        },
        "outputId": "48492a86-07b3-49b2-d987-f0d75b8598d7"
      },
      "execution_count": null,
      "outputs": [
        {
          "output_type": "stream",
          "name": "stdout",
          "text": [
            "<class 'pandas.core.frame.DataFrame'>\n",
            "RangeIndex: 87553 entries, 0 to 87552\n",
            "Columns: 188 entries, 9.779411554336547852e-01 to 0.000000000000000000e+00.88\n",
            "dtypes: float64(188)\n",
            "memory usage: 125.6 MB\n"
          ]
        }
      ]
    },
    {
      "cell_type": "code",
      "source": [
        "df.columns"
      ],
      "metadata": {
        "colab": {
          "base_uri": "https://localhost:8080/"
        },
        "id": "2P89qx681eGa",
        "outputId": "04201360-f097-4cdc-99a4-5c47dbb35a33"
      },
      "execution_count": null,
      "outputs": [
        {
          "output_type": "execute_result",
          "data": {
            "text/plain": [
              "Index(['9.779411554336547852e-01', '9.264705777168273926e-01',\n",
              "       '6.813725233078002930e-01', '2.450980395078659058e-01',\n",
              "       '1.544117629528045654e-01', '1.911764740943908691e-01',\n",
              "       '1.519607901573181152e-01', '8.578431606292724609e-02',\n",
              "       '5.882352963089942932e-02', '4.901960864663124084e-02',\n",
              "       ...\n",
              "       '0.000000000000000000e+00.79', '0.000000000000000000e+00.80',\n",
              "       '0.000000000000000000e+00.81', '0.000000000000000000e+00.82',\n",
              "       '0.000000000000000000e+00.83', '0.000000000000000000e+00.84',\n",
              "       '0.000000000000000000e+00.85', '0.000000000000000000e+00.86',\n",
              "       '0.000000000000000000e+00.87', '0.000000000000000000e+00.88'],\n",
              "      dtype='object', length=188)"
            ]
          },
          "metadata": {},
          "execution_count": 8
        }
      ]
    },
    {
      "cell_type": "code",
      "source": [
        "df['0.000000000000000000e+00.88'].value_counts()"
      ],
      "metadata": {
        "colab": {
          "base_uri": "https://localhost:8080/"
        },
        "id": "iRbj5Z6k1_aQ",
        "outputId": "043aa309-10e7-4921-8cff-75724635d6a1"
      },
      "execution_count": null,
      "outputs": [
        {
          "output_type": "execute_result",
          "data": {
            "text/plain": [
              "0.0    72470\n",
              "4.0     6431\n",
              "2.0     5788\n",
              "1.0     2223\n",
              "3.0      641\n",
              "Name: 0.000000000000000000e+00.88, dtype: int64"
            ]
          },
          "metadata": {},
          "execution_count": 9
        }
      ]
    },
    {
      "cell_type": "code",
      "source": [
        "df.describe()"
      ],
      "metadata": {
        "colab": {
          "base_uri": "https://localhost:8080/",
          "height": 411
        },
        "id": "z122GN_IPCSn",
        "outputId": "237471ca-5ae4-42dc-b763-5bd2147fe8b7"
      },
      "execution_count": null,
      "outputs": [
        {
          "output_type": "execute_result",
          "data": {
            "text/plain": [
              "       9.779411554336547852e-01  9.264705777168273926e-01  \\\n",
              "count              87553.000000              87553.000000   \n",
              "mean                   0.890359                  0.758158   \n",
              "std                    0.240910                  0.221814   \n",
              "min                    0.000000                  0.000000   \n",
              "25%                    0.921922                  0.682482   \n",
              "50%                    0.991342                  0.826007   \n",
              "75%                    1.000000                  0.910506   \n",
              "max                    1.000000                  1.000000   \n",
              "\n",
              "       6.813725233078002930e-01  2.450980395078659058e-01  \\\n",
              "count              87553.000000              87553.000000   \n",
              "mean                   0.423969                  0.219104   \n",
              "std                    0.227305                  0.206880   \n",
              "min                    0.000000                  0.000000   \n",
              "25%                    0.250965                  0.048458   \n",
              "50%                    0.429467                  0.165992   \n",
              "75%                    0.578767                  0.341727   \n",
              "max                    1.000000                  1.000000   \n",
              "\n",
              "       1.544117629528045654e-01  1.911764740943908691e-01  \\\n",
              "count              87553.000000              87553.000000   \n",
              "mean                   0.201127                  0.210399   \n",
              "std                    0.177058                  0.171910   \n",
              "min                    0.000000                  0.000000   \n",
              "25%                    0.082329                  0.088415   \n",
              "50%                    0.147870                  0.158798   \n",
              "75%                    0.258993                  0.287634   \n",
              "max                    1.000000                  1.000000   \n",
              "\n",
              "       1.519607901573181152e-01  8.578431606292724609e-02  \\\n",
              "count              87553.000000              87553.000000   \n",
              "mean                   0.205809                  0.201774   \n",
              "std                    0.178482                  0.177241   \n",
              "min                    0.000000                  0.000000   \n",
              "25%                    0.073333                  0.066116   \n",
              "50%                    0.145320                  0.144424   \n",
              "75%                    0.298246                  0.295393   \n",
              "max                    1.000000                  1.000000   \n",
              "\n",
              "       5.882352963089942932e-02  4.901960864663124084e-02  ...  \\\n",
              "count              87553.000000              87553.000000  ...   \n",
              "mean                   0.198693                  0.196758  ...   \n",
              "std                    0.171778                  0.168358  ...   \n",
              "min                    0.000000                  0.000000  ...   \n",
              "25%                    0.065000                  0.068643  ...   \n",
              "50%                    0.150000                  0.148734  ...   \n",
              "75%                    0.290837                  0.283636  ...   \n",
              "max                    1.000000                  1.000000  ...   \n",
              "\n",
              "       0.000000000000000000e+00.79  0.000000000000000000e+00.80  \\\n",
              "count                 87553.000000                 87553.000000   \n",
              "mean                      0.005025                     0.004628   \n",
              "std                       0.044155                     0.042089   \n",
              "min                       0.000000                     0.000000   \n",
              "25%                       0.000000                     0.000000   \n",
              "50%                       0.000000                     0.000000   \n",
              "75%                       0.000000                     0.000000   \n",
              "max                       1.000000                     1.000000   \n",
              "\n",
              "       0.000000000000000000e+00.81  0.000000000000000000e+00.82  \\\n",
              "count                 87553.000000                 87553.000000   \n",
              "mean                      0.004291                     0.003945   \n",
              "std                       0.040525                     0.038651   \n",
              "min                       0.000000                     0.000000   \n",
              "25%                       0.000000                     0.000000   \n",
              "50%                       0.000000                     0.000000   \n",
              "75%                       0.000000                     0.000000   \n",
              "max                       1.000000                     1.000000   \n",
              "\n",
              "       0.000000000000000000e+00.83  0.000000000000000000e+00.84  \\\n",
              "count                 87553.000000                 87553.000000   \n",
              "mean                      0.003681                     0.003471   \n",
              "std                       0.037193                     0.036255   \n",
              "min                       0.000000                     0.000000   \n",
              "25%                       0.000000                     0.000000   \n",
              "50%                       0.000000                     0.000000   \n",
              "75%                       0.000000                     0.000000   \n",
              "max                       1.000000                     1.000000   \n",
              "\n",
              "       0.000000000000000000e+00.85  0.000000000000000000e+00.86  \\\n",
              "count                 87553.000000                 87553.000000   \n",
              "mean                      0.003221                     0.002945   \n",
              "std                       0.034790                     0.032865   \n",
              "min                       0.000000                     0.000000   \n",
              "25%                       0.000000                     0.000000   \n",
              "50%                       0.000000                     0.000000   \n",
              "75%                       0.000000                     0.000000   \n",
              "max                       1.000000                     1.000000   \n",
              "\n",
              "       0.000000000000000000e+00.87  0.000000000000000000e+00.88  \n",
              "count                 87553.000000                 87553.000000  \n",
              "mean                      0.002807                     0.473382  \n",
              "std                       0.031924                     1.143190  \n",
              "min                       0.000000                     0.000000  \n",
              "25%                       0.000000                     0.000000  \n",
              "50%                       0.000000                     0.000000  \n",
              "75%                       0.000000                     0.000000  \n",
              "max                       1.000000                     4.000000  \n",
              "\n",
              "[8 rows x 188 columns]"
            ],
            "text/html": [
              "\n",
              "  <div id=\"df-48d837a9-cb76-4bc0-8497-df40b29c0cff\">\n",
              "    <div class=\"colab-df-container\">\n",
              "      <div>\n",
              "<style scoped>\n",
              "    .dataframe tbody tr th:only-of-type {\n",
              "        vertical-align: middle;\n",
              "    }\n",
              "\n",
              "    .dataframe tbody tr th {\n",
              "        vertical-align: top;\n",
              "    }\n",
              "\n",
              "    .dataframe thead th {\n",
              "        text-align: right;\n",
              "    }\n",
              "</style>\n",
              "<table border=\"1\" class=\"dataframe\">\n",
              "  <thead>\n",
              "    <tr style=\"text-align: right;\">\n",
              "      <th></th>\n",
              "      <th>9.779411554336547852e-01</th>\n",
              "      <th>9.264705777168273926e-01</th>\n",
              "      <th>6.813725233078002930e-01</th>\n",
              "      <th>2.450980395078659058e-01</th>\n",
              "      <th>1.544117629528045654e-01</th>\n",
              "      <th>1.911764740943908691e-01</th>\n",
              "      <th>1.519607901573181152e-01</th>\n",
              "      <th>8.578431606292724609e-02</th>\n",
              "      <th>5.882352963089942932e-02</th>\n",
              "      <th>4.901960864663124084e-02</th>\n",
              "      <th>...</th>\n",
              "      <th>0.000000000000000000e+00.79</th>\n",
              "      <th>0.000000000000000000e+00.80</th>\n",
              "      <th>0.000000000000000000e+00.81</th>\n",
              "      <th>0.000000000000000000e+00.82</th>\n",
              "      <th>0.000000000000000000e+00.83</th>\n",
              "      <th>0.000000000000000000e+00.84</th>\n",
              "      <th>0.000000000000000000e+00.85</th>\n",
              "      <th>0.000000000000000000e+00.86</th>\n",
              "      <th>0.000000000000000000e+00.87</th>\n",
              "      <th>0.000000000000000000e+00.88</th>\n",
              "    </tr>\n",
              "  </thead>\n",
              "  <tbody>\n",
              "    <tr>\n",
              "      <th>count</th>\n",
              "      <td>87553.000000</td>\n",
              "      <td>87553.000000</td>\n",
              "      <td>87553.000000</td>\n",
              "      <td>87553.000000</td>\n",
              "      <td>87553.000000</td>\n",
              "      <td>87553.000000</td>\n",
              "      <td>87553.000000</td>\n",
              "      <td>87553.000000</td>\n",
              "      <td>87553.000000</td>\n",
              "      <td>87553.000000</td>\n",
              "      <td>...</td>\n",
              "      <td>87553.000000</td>\n",
              "      <td>87553.000000</td>\n",
              "      <td>87553.000000</td>\n",
              "      <td>87553.000000</td>\n",
              "      <td>87553.000000</td>\n",
              "      <td>87553.000000</td>\n",
              "      <td>87553.000000</td>\n",
              "      <td>87553.000000</td>\n",
              "      <td>87553.000000</td>\n",
              "      <td>87553.000000</td>\n",
              "    </tr>\n",
              "    <tr>\n",
              "      <th>mean</th>\n",
              "      <td>0.890359</td>\n",
              "      <td>0.758158</td>\n",
              "      <td>0.423969</td>\n",
              "      <td>0.219104</td>\n",
              "      <td>0.201127</td>\n",
              "      <td>0.210399</td>\n",
              "      <td>0.205809</td>\n",
              "      <td>0.201774</td>\n",
              "      <td>0.198693</td>\n",
              "      <td>0.196758</td>\n",
              "      <td>...</td>\n",
              "      <td>0.005025</td>\n",
              "      <td>0.004628</td>\n",
              "      <td>0.004291</td>\n",
              "      <td>0.003945</td>\n",
              "      <td>0.003681</td>\n",
              "      <td>0.003471</td>\n",
              "      <td>0.003221</td>\n",
              "      <td>0.002945</td>\n",
              "      <td>0.002807</td>\n",
              "      <td>0.473382</td>\n",
              "    </tr>\n",
              "    <tr>\n",
              "      <th>std</th>\n",
              "      <td>0.240910</td>\n",
              "      <td>0.221814</td>\n",
              "      <td>0.227305</td>\n",
              "      <td>0.206880</td>\n",
              "      <td>0.177058</td>\n",
              "      <td>0.171910</td>\n",
              "      <td>0.178482</td>\n",
              "      <td>0.177241</td>\n",
              "      <td>0.171778</td>\n",
              "      <td>0.168358</td>\n",
              "      <td>...</td>\n",
              "      <td>0.044155</td>\n",
              "      <td>0.042089</td>\n",
              "      <td>0.040525</td>\n",
              "      <td>0.038651</td>\n",
              "      <td>0.037193</td>\n",
              "      <td>0.036255</td>\n",
              "      <td>0.034790</td>\n",
              "      <td>0.032865</td>\n",
              "      <td>0.031924</td>\n",
              "      <td>1.143190</td>\n",
              "    </tr>\n",
              "    <tr>\n",
              "      <th>min</th>\n",
              "      <td>0.000000</td>\n",
              "      <td>0.000000</td>\n",
              "      <td>0.000000</td>\n",
              "      <td>0.000000</td>\n",
              "      <td>0.000000</td>\n",
              "      <td>0.000000</td>\n",
              "      <td>0.000000</td>\n",
              "      <td>0.000000</td>\n",
              "      <td>0.000000</td>\n",
              "      <td>0.000000</td>\n",
              "      <td>...</td>\n",
              "      <td>0.000000</td>\n",
              "      <td>0.000000</td>\n",
              "      <td>0.000000</td>\n",
              "      <td>0.000000</td>\n",
              "      <td>0.000000</td>\n",
              "      <td>0.000000</td>\n",
              "      <td>0.000000</td>\n",
              "      <td>0.000000</td>\n",
              "      <td>0.000000</td>\n",
              "      <td>0.000000</td>\n",
              "    </tr>\n",
              "    <tr>\n",
              "      <th>25%</th>\n",
              "      <td>0.921922</td>\n",
              "      <td>0.682482</td>\n",
              "      <td>0.250965</td>\n",
              "      <td>0.048458</td>\n",
              "      <td>0.082329</td>\n",
              "      <td>0.088415</td>\n",
              "      <td>0.073333</td>\n",
              "      <td>0.066116</td>\n",
              "      <td>0.065000</td>\n",
              "      <td>0.068643</td>\n",
              "      <td>...</td>\n",
              "      <td>0.000000</td>\n",
              "      <td>0.000000</td>\n",
              "      <td>0.000000</td>\n",
              "      <td>0.000000</td>\n",
              "      <td>0.000000</td>\n",
              "      <td>0.000000</td>\n",
              "      <td>0.000000</td>\n",
              "      <td>0.000000</td>\n",
              "      <td>0.000000</td>\n",
              "      <td>0.000000</td>\n",
              "    </tr>\n",
              "    <tr>\n",
              "      <th>50%</th>\n",
              "      <td>0.991342</td>\n",
              "      <td>0.826007</td>\n",
              "      <td>0.429467</td>\n",
              "      <td>0.165992</td>\n",
              "      <td>0.147870</td>\n",
              "      <td>0.158798</td>\n",
              "      <td>0.145320</td>\n",
              "      <td>0.144424</td>\n",
              "      <td>0.150000</td>\n",
              "      <td>0.148734</td>\n",
              "      <td>...</td>\n",
              "      <td>0.000000</td>\n",
              "      <td>0.000000</td>\n",
              "      <td>0.000000</td>\n",
              "      <td>0.000000</td>\n",
              "      <td>0.000000</td>\n",
              "      <td>0.000000</td>\n",
              "      <td>0.000000</td>\n",
              "      <td>0.000000</td>\n",
              "      <td>0.000000</td>\n",
              "      <td>0.000000</td>\n",
              "    </tr>\n",
              "    <tr>\n",
              "      <th>75%</th>\n",
              "      <td>1.000000</td>\n",
              "      <td>0.910506</td>\n",
              "      <td>0.578767</td>\n",
              "      <td>0.341727</td>\n",
              "      <td>0.258993</td>\n",
              "      <td>0.287634</td>\n",
              "      <td>0.298246</td>\n",
              "      <td>0.295393</td>\n",
              "      <td>0.290837</td>\n",
              "      <td>0.283636</td>\n",
              "      <td>...</td>\n",
              "      <td>0.000000</td>\n",
              "      <td>0.000000</td>\n",
              "      <td>0.000000</td>\n",
              "      <td>0.000000</td>\n",
              "      <td>0.000000</td>\n",
              "      <td>0.000000</td>\n",
              "      <td>0.000000</td>\n",
              "      <td>0.000000</td>\n",
              "      <td>0.000000</td>\n",
              "      <td>0.000000</td>\n",
              "    </tr>\n",
              "    <tr>\n",
              "      <th>max</th>\n",
              "      <td>1.000000</td>\n",
              "      <td>1.000000</td>\n",
              "      <td>1.000000</td>\n",
              "      <td>1.000000</td>\n",
              "      <td>1.000000</td>\n",
              "      <td>1.000000</td>\n",
              "      <td>1.000000</td>\n",
              "      <td>1.000000</td>\n",
              "      <td>1.000000</td>\n",
              "      <td>1.000000</td>\n",
              "      <td>...</td>\n",
              "      <td>1.000000</td>\n",
              "      <td>1.000000</td>\n",
              "      <td>1.000000</td>\n",
              "      <td>1.000000</td>\n",
              "      <td>1.000000</td>\n",
              "      <td>1.000000</td>\n",
              "      <td>1.000000</td>\n",
              "      <td>1.000000</td>\n",
              "      <td>1.000000</td>\n",
              "      <td>4.000000</td>\n",
              "    </tr>\n",
              "  </tbody>\n",
              "</table>\n",
              "<p>8 rows × 188 columns</p>\n",
              "</div>\n",
              "      <button class=\"colab-df-convert\" onclick=\"convertToInteractive('df-48d837a9-cb76-4bc0-8497-df40b29c0cff')\"\n",
              "              title=\"Convert this dataframe to an interactive table.\"\n",
              "              style=\"display:none;\">\n",
              "        \n",
              "  <svg xmlns=\"http://www.w3.org/2000/svg\" height=\"24px\"viewBox=\"0 0 24 24\"\n",
              "       width=\"24px\">\n",
              "    <path d=\"M0 0h24v24H0V0z\" fill=\"none\"/>\n",
              "    <path d=\"M18.56 5.44l.94 2.06.94-2.06 2.06-.94-2.06-.94-.94-2.06-.94 2.06-2.06.94zm-11 1L8.5 8.5l.94-2.06 2.06-.94-2.06-.94L8.5 2.5l-.94 2.06-2.06.94zm10 10l.94 2.06.94-2.06 2.06-.94-2.06-.94-.94-2.06-.94 2.06-2.06.94z\"/><path d=\"M17.41 7.96l-1.37-1.37c-.4-.4-.92-.59-1.43-.59-.52 0-1.04.2-1.43.59L10.3 9.45l-7.72 7.72c-.78.78-.78 2.05 0 2.83L4 21.41c.39.39.9.59 1.41.59.51 0 1.02-.2 1.41-.59l7.78-7.78 2.81-2.81c.8-.78.8-2.07 0-2.86zM5.41 20L4 18.59l7.72-7.72 1.47 1.35L5.41 20z\"/>\n",
              "  </svg>\n",
              "      </button>\n",
              "      \n",
              "  <style>\n",
              "    .colab-df-container {\n",
              "      display:flex;\n",
              "      flex-wrap:wrap;\n",
              "      gap: 12px;\n",
              "    }\n",
              "\n",
              "    .colab-df-convert {\n",
              "      background-color: #E8F0FE;\n",
              "      border: none;\n",
              "      border-radius: 50%;\n",
              "      cursor: pointer;\n",
              "      display: none;\n",
              "      fill: #1967D2;\n",
              "      height: 32px;\n",
              "      padding: 0 0 0 0;\n",
              "      width: 32px;\n",
              "    }\n",
              "\n",
              "    .colab-df-convert:hover {\n",
              "      background-color: #E2EBFA;\n",
              "      box-shadow: 0px 1px 2px rgba(60, 64, 67, 0.3), 0px 1px 3px 1px rgba(60, 64, 67, 0.15);\n",
              "      fill: #174EA6;\n",
              "    }\n",
              "\n",
              "    [theme=dark] .colab-df-convert {\n",
              "      background-color: #3B4455;\n",
              "      fill: #D2E3FC;\n",
              "    }\n",
              "\n",
              "    [theme=dark] .colab-df-convert:hover {\n",
              "      background-color: #434B5C;\n",
              "      box-shadow: 0px 1px 3px 1px rgba(0, 0, 0, 0.15);\n",
              "      filter: drop-shadow(0px 1px 2px rgba(0, 0, 0, 0.3));\n",
              "      fill: #FFFFFF;\n",
              "    }\n",
              "  </style>\n",
              "\n",
              "      <script>\n",
              "        const buttonEl =\n",
              "          document.querySelector('#df-48d837a9-cb76-4bc0-8497-df40b29c0cff button.colab-df-convert');\n",
              "        buttonEl.style.display =\n",
              "          google.colab.kernel.accessAllowed ? 'block' : 'none';\n",
              "\n",
              "        async function convertToInteractive(key) {\n",
              "          const element = document.querySelector('#df-48d837a9-cb76-4bc0-8497-df40b29c0cff');\n",
              "          const dataTable =\n",
              "            await google.colab.kernel.invokeFunction('convertToInteractive',\n",
              "                                                     [key], {});\n",
              "          if (!dataTable) return;\n",
              "\n",
              "          const docLinkHtml = 'Like what you see? Visit the ' +\n",
              "            '<a target=\"_blank\" href=https://colab.research.google.com/notebooks/data_table.ipynb>data table notebook</a>'\n",
              "            + ' to learn more about interactive tables.';\n",
              "          element.innerHTML = '';\n",
              "          dataTable['output_type'] = 'display_data';\n",
              "          await google.colab.output.renderOutput(dataTable, element);\n",
              "          const docLink = document.createElement('div');\n",
              "          docLink.innerHTML = docLinkHtml;\n",
              "          element.appendChild(docLink);\n",
              "        }\n",
              "      </script>\n",
              "    </div>\n",
              "  </div>\n",
              "  "
            ]
          },
          "metadata": {},
          "execution_count": 10
        }
      ]
    },
    {
      "cell_type": "code",
      "source": [
        "x_train = df.drop(['0.000000000000000000e+00.88'],axis=1)\n",
        "y_train = df['0.000000000000000000e+00.88']"
      ],
      "metadata": {
        "id": "XdgWmbsZ5Em3"
      },
      "execution_count": null,
      "outputs": []
    },
    {
      "cell_type": "code",
      "source": [
        "df_test = pd.read_csv('mitbih_test.csv')"
      ],
      "metadata": {
        "id": "uk9L9tHB5vNR"
      },
      "execution_count": null,
      "outputs": []
    },
    {
      "cell_type": "code",
      "source": [
        "x_train.shape"
      ],
      "metadata": {
        "colab": {
          "base_uri": "https://localhost:8080/"
        },
        "id": "8W5azmB76x6e",
        "outputId": "31928d73-6a94-43ed-83ea-8c1908b2db71"
      },
      "execution_count": null,
      "outputs": [
        {
          "output_type": "execute_result",
          "data": {
            "text/plain": [
              "(87553, 187)"
            ]
          },
          "metadata": {},
          "execution_count": 13
        }
      ]
    },
    {
      "cell_type": "code",
      "source": [
        "df_test.columns"
      ],
      "metadata": {
        "colab": {
          "base_uri": "https://localhost:8080/"
        },
        "id": "cKtIP-3T6KKY",
        "outputId": "7e5607c4-42dd-4df5-d2d9-7116ccd40843"
      },
      "execution_count": null,
      "outputs": [
        {
          "output_type": "execute_result",
          "data": {
            "text/plain": [
              "Index(['1.000000000000000000e+00', '7.582644820213317871e-01',\n",
              "       '1.115702465176582336e-01', '0.000000000000000000e+00',\n",
              "       '8.057851344347000122e-02', '7.851240038871765137e-02',\n",
              "       '6.611569970846176147e-02', '4.958677664399147034e-02',\n",
              "       '4.752065986394882202e-02', '3.512396663427352905e-02',\n",
              "       ...\n",
              "       '0.000000000000000000e+00.56', '0.000000000000000000e+00.57',\n",
              "       '0.000000000000000000e+00.58', '0.000000000000000000e+00.59',\n",
              "       '0.000000000000000000e+00.60', '0.000000000000000000e+00.61',\n",
              "       '0.000000000000000000e+00.62', '0.000000000000000000e+00.63',\n",
              "       '0.000000000000000000e+00.64', '0.000000000000000000e+00.65'],\n",
              "      dtype='object', length=188)"
            ]
          },
          "metadata": {},
          "execution_count": 14
        }
      ]
    },
    {
      "cell_type": "code",
      "source": [
        "x_test = df_test.drop(['0.000000000000000000e+00.65'],axis=1)\n",
        "y_test = df_test['0.000000000000000000e+00.65']"
      ],
      "metadata": {
        "id": "rBD8lQY9522J"
      },
      "execution_count": null,
      "outputs": []
    },
    {
      "cell_type": "code",
      "source": [
        "from keras.layers import Dense, Conv1D, Flatten, MaxPooling1D\n"
      ],
      "metadata": {
        "id": "25gaKNCVPlXT"
      },
      "execution_count": null,
      "outputs": []
    },
    {
      "cell_type": "code",
      "source": [
        "model = Sequential()\n",
        "model.add(Conv1D( 64 , 6 , activation=\"relu\", input_shape=(187,1) ) )\n",
        "model.add(Dense(16, activation=\"relu\"))\n",
        "model.add(MaxPooling1D())\n",
        "model.add(Flatten())\n",
        "model.add(Dense(5 , activation = 'softmax'))\n",
        "\n",
        "model.compile(loss=\"sparse_categorical_crossentropy\", optimizer=opt, metrics=[\"accuracy\"])\n"
      ],
      "metadata": {
        "id": "0ccIU_f3Pbcg"
      },
      "execution_count": null,
      "outputs": []
    },
    {
      "cell_type": "code",
      "source": [
        "# model = Sequential()\n",
        "# model.add(Dense(64, kernel_initializer='normal', activation='relu', input_shape=(187,)))\n",
        "# model.add(Dense(32, activation='relu'))\n",
        "# model.add(keras.layers.Dense(5, activation=\"sigmoid\"))\n"
      ],
      "metadata": {
        "id": "RTaBmS1u36Gi"
      },
      "execution_count": null,
      "outputs": []
    },
    {
      "cell_type": "code",
      "source": [],
      "metadata": {
        "id": "pEP4v_y47i5F"
      },
      "execution_count": null,
      "outputs": []
    },
    {
      "cell_type": "code",
      "source": [
        "early_stopping_cb = keras.callbacks.EarlyStopping(patience=10, restore_best_weights=True)\n",
        "\n",
        "history=model.fit(x_train, y_train, epochs=100,\n",
        "          validation_split = 0.2,\n",
        "          validation_data=(x_test,y_test),\n",
        "          callbacks = early_stopping_cb, batch_size=64)"
      ],
      "metadata": {
        "colab": {
          "base_uri": "https://localhost:8080/"
        },
        "id": "l2P6rDpz7nxJ",
        "outputId": "c3d8fa22-871d-460a-90ed-0a7e282a834e"
      },
      "execution_count": null,
      "outputs": [
        {
          "output_type": "stream",
          "name": "stdout",
          "text": [
            "Epoch 1/100\n",
            "1369/1369 [==============================] - 17s 5ms/step - loss: 0.3080 - accuracy: 0.9140 - val_loss: 0.2013 - val_accuracy: 0.9479\n",
            "Epoch 2/100\n",
            "1369/1369 [==============================] - 7s 5ms/step - loss: 0.1743 - accuracy: 0.9529 - val_loss: 0.1747 - val_accuracy: 0.9542\n",
            "Epoch 3/100\n",
            "1369/1369 [==============================] - 7s 5ms/step - loss: 0.1586 - accuracy: 0.9561 - val_loss: 0.1654 - val_accuracy: 0.9546\n",
            "Epoch 4/100\n",
            "1369/1369 [==============================] - 8s 6ms/step - loss: 0.1480 - accuracy: 0.9585 - val_loss: 0.1489 - val_accuracy: 0.9590\n",
            "Epoch 5/100\n",
            "1369/1369 [==============================] - 7s 5ms/step - loss: 0.1390 - accuracy: 0.9611 - val_loss: 0.1392 - val_accuracy: 0.9626\n",
            "Epoch 6/100\n",
            "1369/1369 [==============================] - 7s 5ms/step - loss: 0.1290 - accuracy: 0.9639 - val_loss: 0.1339 - val_accuracy: 0.9623\n",
            "Epoch 7/100\n",
            "1369/1369 [==============================] - 6s 5ms/step - loss: 0.1209 - accuracy: 0.9667 - val_loss: 0.1261 - val_accuracy: 0.9663\n",
            "Epoch 8/100\n",
            "1369/1369 [==============================] - 7s 5ms/step - loss: 0.1139 - accuracy: 0.9681 - val_loss: 0.1242 - val_accuracy: 0.9673\n",
            "Epoch 9/100\n",
            "1369/1369 [==============================] - 7s 5ms/step - loss: 0.1082 - accuracy: 0.9695 - val_loss: 0.1155 - val_accuracy: 0.9694\n",
            "Epoch 10/100\n",
            "1369/1369 [==============================] - 7s 5ms/step - loss: 0.1033 - accuracy: 0.9710 - val_loss: 0.1191 - val_accuracy: 0.9683\n",
            "Epoch 11/100\n",
            "1369/1369 [==============================] - 7s 5ms/step - loss: 0.0994 - accuracy: 0.9721 - val_loss: 0.1175 - val_accuracy: 0.9674\n",
            "Epoch 12/100\n",
            "1369/1369 [==============================] - 6s 5ms/step - loss: 0.0964 - accuracy: 0.9733 - val_loss: 0.1114 - val_accuracy: 0.9709\n",
            "Epoch 13/100\n",
            "1369/1369 [==============================] - 7s 5ms/step - loss: 0.0927 - accuracy: 0.9738 - val_loss: 0.1044 - val_accuracy: 0.9724\n",
            "Epoch 14/100\n",
            "1369/1369 [==============================] - 6s 5ms/step - loss: 0.0895 - accuracy: 0.9750 - val_loss: 0.1065 - val_accuracy: 0.9730\n",
            "Epoch 15/100\n",
            "1369/1369 [==============================] - 7s 5ms/step - loss: 0.0873 - accuracy: 0.9753 - val_loss: 0.1043 - val_accuracy: 0.9723\n",
            "Epoch 16/100\n",
            "1369/1369 [==============================] - 7s 5ms/step - loss: 0.0855 - accuracy: 0.9757 - val_loss: 0.1073 - val_accuracy: 0.9722\n",
            "Epoch 17/100\n",
            "1369/1369 [==============================] - 7s 5ms/step - loss: 0.0838 - accuracy: 0.9762 - val_loss: 0.1032 - val_accuracy: 0.9726\n",
            "Epoch 18/100\n",
            "1369/1369 [==============================] - 6s 5ms/step - loss: 0.0812 - accuracy: 0.9770 - val_loss: 0.1023 - val_accuracy: 0.9732\n",
            "Epoch 19/100\n",
            "1369/1369 [==============================] - 7s 5ms/step - loss: 0.0797 - accuracy: 0.9773 - val_loss: 0.1030 - val_accuracy: 0.9737\n",
            "Epoch 20/100\n",
            "1369/1369 [==============================] - 6s 4ms/step - loss: 0.0777 - accuracy: 0.9778 - val_loss: 0.0987 - val_accuracy: 0.9744\n",
            "Epoch 21/100\n",
            "1369/1369 [==============================] - 6s 5ms/step - loss: 0.0768 - accuracy: 0.9780 - val_loss: 0.1013 - val_accuracy: 0.9750\n",
            "Epoch 22/100\n",
            "1369/1369 [==============================] - 6s 5ms/step - loss: 0.0755 - accuracy: 0.9788 - val_loss: 0.1009 - val_accuracy: 0.9741\n",
            "Epoch 23/100\n",
            "1369/1369 [==============================] - 6s 5ms/step - loss: 0.0739 - accuracy: 0.9789 - val_loss: 0.0970 - val_accuracy: 0.9746\n",
            "Epoch 24/100\n",
            "1369/1369 [==============================] - 6s 5ms/step - loss: 0.0728 - accuracy: 0.9793 - val_loss: 0.0977 - val_accuracy: 0.9753\n",
            "Epoch 25/100\n",
            "1369/1369 [==============================] - 6s 5ms/step - loss: 0.0716 - accuracy: 0.9796 - val_loss: 0.1052 - val_accuracy: 0.9732\n",
            "Epoch 26/100\n",
            "1369/1369 [==============================] - 7s 5ms/step - loss: 0.0712 - accuracy: 0.9796 - val_loss: 0.0984 - val_accuracy: 0.9751\n",
            "Epoch 27/100\n",
            "1369/1369 [==============================] - 6s 4ms/step - loss: 0.0697 - accuracy: 0.9798 - val_loss: 0.0963 - val_accuracy: 0.9752\n",
            "Epoch 28/100\n",
            "1369/1369 [==============================] - 7s 5ms/step - loss: 0.0681 - accuracy: 0.9804 - val_loss: 0.0972 - val_accuracy: 0.9761\n",
            "Epoch 29/100\n",
            "1369/1369 [==============================] - 6s 5ms/step - loss: 0.0671 - accuracy: 0.9805 - val_loss: 0.0986 - val_accuracy: 0.9758\n",
            "Epoch 30/100\n",
            "1369/1369 [==============================] - 7s 5ms/step - loss: 0.0665 - accuracy: 0.9808 - val_loss: 0.0989 - val_accuracy: 0.9756\n",
            "Epoch 31/100\n",
            "1369/1369 [==============================] - 6s 4ms/step - loss: 0.0659 - accuracy: 0.9810 - val_loss: 0.0940 - val_accuracy: 0.9757\n",
            "Epoch 32/100\n",
            "1369/1369 [==============================] - 7s 5ms/step - loss: 0.0649 - accuracy: 0.9813 - val_loss: 0.0959 - val_accuracy: 0.9752\n",
            "Epoch 33/100\n",
            "1369/1369 [==============================] - 6s 4ms/step - loss: 0.0646 - accuracy: 0.9812 - val_loss: 0.0945 - val_accuracy: 0.9761\n",
            "Epoch 34/100\n",
            "1369/1369 [==============================] - 7s 5ms/step - loss: 0.0641 - accuracy: 0.9815 - val_loss: 0.0930 - val_accuracy: 0.9765\n",
            "Epoch 35/100\n",
            "1369/1369 [==============================] - 6s 4ms/step - loss: 0.0630 - accuracy: 0.9816 - val_loss: 0.1021 - val_accuracy: 0.9746\n",
            "Epoch 36/100\n",
            "1369/1369 [==============================] - 7s 5ms/step - loss: 0.0628 - accuracy: 0.9816 - val_loss: 0.0972 - val_accuracy: 0.9769\n",
            "Epoch 37/100\n",
            "1369/1369 [==============================] - 6s 4ms/step - loss: 0.0616 - accuracy: 0.9822 - val_loss: 0.1000 - val_accuracy: 0.9752\n",
            "Epoch 38/100\n",
            "1369/1369 [==============================] - 7s 5ms/step - loss: 0.0611 - accuracy: 0.9824 - val_loss: 0.1032 - val_accuracy: 0.9740\n",
            "Epoch 39/100\n",
            "1369/1369 [==============================] - 6s 4ms/step - loss: 0.0626 - accuracy: 0.9820 - val_loss: 0.0981 - val_accuracy: 0.9756\n",
            "Epoch 40/100\n",
            "1369/1369 [==============================] - 7s 5ms/step - loss: 0.0598 - accuracy: 0.9825 - val_loss: 0.0987 - val_accuracy: 0.9756\n",
            "Epoch 41/100\n",
            "1369/1369 [==============================] - 6s 4ms/step - loss: 0.0592 - accuracy: 0.9825 - val_loss: 0.0963 - val_accuracy: 0.9756\n",
            "Epoch 42/100\n",
            "1369/1369 [==============================] - 7s 5ms/step - loss: 0.0596 - accuracy: 0.9824 - val_loss: 0.0943 - val_accuracy: 0.9763\n",
            "Epoch 43/100\n",
            "1369/1369 [==============================] - 6s 4ms/step - loss: 0.0592 - accuracy: 0.9828 - val_loss: 0.0957 - val_accuracy: 0.9759\n",
            "Epoch 44/100\n",
            "1369/1369 [==============================] - 7s 5ms/step - loss: 0.0584 - accuracy: 0.9830 - val_loss: 0.0951 - val_accuracy: 0.9766\n"
          ]
        }
      ]
    },
    {
      "cell_type": "code",
      "source": [],
      "metadata": {
        "id": "DFgOsZbj8jf2"
      },
      "execution_count": null,
      "outputs": []
    }
  ]
}